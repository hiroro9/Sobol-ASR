{
 "cells": [
  {
   "cell_type": "code",
   "execution_count": 1,
   "metadata": {},
   "outputs": [],
   "source": [
    "from SALib.sample import saltelli\n",
    "from SALib.analyze import sobol\n",
    "import numpy as np\n",
    "import matplotlib.pyplot as plt"
   ]
  },
  {
   "cell_type": "code",
   "execution_count": 2,
   "metadata": {},
   "outputs": [],
   "source": [
    "#=========== general settings ============================#\n",
    "plt.rcParams[\"figure.figsize\"] = [20, 10]\n",
    "plt.rcParams[\"figure.subplot.wspace\"] = 0.4\n",
    "\n",
    "plt.rcParams['font.family'] ='sans-serif'#使用するフォント\n",
    "plt.rcParams['font.sans-serif'] ='Arial'#使用するフォント\n",
    "plt.rcParams[\"font.size\"] = 30\n",
    "#plt.rcParams['mathtext.rm'] ='sans'#使用するフォント\n",
    "#plt.rcParams['mathtext.default'] ='rm'#使用するフォント\n",
    "\n",
    "plt.rcParams['xtick.direction'] = 'in'#x軸の目盛線が内向き('in')か外向き('out')か双方向か('inout')\n",
    "plt.rcParams['ytick.direction'] = 'in'#y軸の目盛線が内向き('in')か外向き('out')か双方向か('inout')\n",
    "plt.rcParams['xtick.major.width'] = 1.0#x軸主目盛り線の線幅\n",
    "plt.rcParams['ytick.major.width'] = 1.0#y軸主目盛り線の線幅\n",
    "plt.rcParams[\"xtick.major.pad\"] = 19.0\n",
    "plt.rcParams[\"ytick.major.pad\"] = 16.0\n",
    "plt.rcParams[\"xtick.major.size\"] = 10\n",
    "plt.rcParams[\"ytick.major.size\"] = 10\n",
    "\n",
    "plt.rcParams['axes.linewidth'] = 1.0# 軸の線幅edge linewidth。囲みの太さ\n",
    "plt.rcParams[\"axes.labelpad\"] = 10\n",
    "#==================================================================#"
   ]
  },
  {
   "cell_type": "code",
   "execution_count": 3,
   "metadata": {},
   "outputs": [],
   "source": [
    "def f(t, X1, X2):\n",
    "    return X1*t**2 + X2*t"
   ]
  },
  {
   "cell_type": "code",
   "execution_count": 4,
   "metadata": {},
   "outputs": [],
   "source": [
    "problem = {\n",
    "    \"num_vars\": 2,\n",
    "    \"names\": [\"X1\", \"X2\"],\n",
    "    \"bounds\": [[0, 100]*2]\n",
    "}"
   ]
  },
  {
   "cell_type": "code",
   "execution_count": 5,
   "metadata": {},
   "outputs": [],
   "source": [
    "param_values = saltelli.sample(problem, 1000)"
   ]
  },
  {
   "cell_type": "code",
   "execution_count": 6,
   "metadata": {},
   "outputs": [],
   "source": [
    "def S(t):\n",
    "    t = t\n",
    "    Y = np.zeros([param_values.shape[0]])\n",
    "    for i, (X1, X2) in enumerate(param_values):\n",
    "        Y[i] = f(t, X1, X2)\n",
    "    Si = sobol.analyze(problem, Y, print_to_console=True)\n",
    "    return Si"
   ]
  },
  {
   "cell_type": "markdown",
   "metadata": {},
   "source": [
    "Y = np.zeros([param_values.shape[0]])\n",
    "\n",
    "for t in (1, 2, 3):\n",
    "    for i, (X1, X2) in enumerate(param_values):\n",
    "        Y[i] = f(t, X1, X2)"
   ]
  },
  {
   "cell_type": "markdown",
   "metadata": {},
   "source": [
    "Si = sobol.analyze(problem, Y, print_to_console=True)"
   ]
  },
  {
   "cell_type": "code",
   "execution_count": 7,
   "metadata": {},
   "outputs": [
    {
     "name": "stdout",
     "output_type": "stream",
     "text": [
      "Parameter S1 S1_conf ST ST_conf\n",
      "X1 0.501194 0.056308 0.498997 0.044702\n",
      "X2 0.503147 0.056044 0.500569 0.041007\n",
      "\n",
      "Parameter_1 Parameter_2 S2 S2_conf\n",
      "X1 X2 -0.004394 0.095770\n",
      "Parameter S1 S1_conf ST ST_conf\n",
      "X1 0.501194 0.053166 0.498997 0.039383\n",
      "X2 0.503147 0.049804 0.500569 0.035902\n",
      "\n",
      "Parameter_1 Parameter_2 S2 S2_conf\n",
      "X1 X2 -0.004394 0.089959\n"
     ]
    },
    {
     "data": {
      "text/plain": [
       "<BarContainer object of 2 artists>"
      ]
     },
     "execution_count": 7,
     "metadata": {},
     "output_type": "execute_result"
    },
    {
     "data": {
      "image/png": "[encoded data removed]",
      "text/plain": [
       "<Figure size 1440x720 with 1 Axes>"
      ]
     },
     "metadata": {
      "needs_background": "light"
     },
     "output_type": "display_data"
    }
   ],
   "source": [
    "x = np.arange(problem['num_vars'])\n",
    "plt.xticks(x, problem['names'])\n",
    "plt.ylabel('$S_{i}$')\n",
    "plt.bar(x, S(1)['S1'], yerr = S(1)['S1_conf'])"
   ]
  },
  {
   "cell_type": "code",
   "execution_count": 11,
   "metadata": {},
   "outputs": [
    {
     "data": {
      "text/plain": [
       "{'S1': array([0.90060339, 0.10179908]),\n",
       " 'S1_conf': array([0.06630016, 0.02661695]),\n",
       " 'ST': array([0.89926547, 0.10023309]),\n",
       " 'ST_conf': array([0.05986902, 0.00981425]),\n",
       " 'S2': array([[        nan, -0.00267584],\n",
       "        [        nan,         nan]]),\n",
       " 'S2_conf': array([[       nan, 0.09069226],\n",
       "        [       nan,        nan]])}"
      ]
     },
     "execution_count": 11,
     "metadata": {},
     "output_type": "execute_result"
    }
   ],
   "source": [
    "Si"
   ]
  },
  {
   "cell_type": "code",
   "execution_count": null,
   "metadata": {},
   "outputs": [],
   "source": []
  },
  {
   "cell_type": "code",
   "execution_count": null,
   "metadata": {},
   "outputs": [],
   "source": []
  }
 ],
 "metadata": {
  "kernelspec": {
   "display_name": "Python 3",
   "language": "python",
   "name": "python3"
  },
  "language_info": {
   "codemirror_mode": {
    "name": "ipython",
    "version": 3
   },
   "file_extension": ".py",
   "mimetype": "text/x-python",
   "name": "python",
   "nbconvert_exporter": "python",
   "pygments_lexer": "ipython3",
   "version": "3.7.7"
  }
 },
 "nbformat": 4,
 "nbformat_minor": 4
}

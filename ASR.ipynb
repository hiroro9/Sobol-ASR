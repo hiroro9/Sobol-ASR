{
 "cells": [
  {
   "cell_type": "code",
   "execution_count": 1,
   "metadata": {},
   "outputs": [],
   "source": [
    "from SALib.sample import saltelli\n",
    "from SALib.analyze import sobol\n",
    "import numpy as np\n",
    "import pandas as pd\n",
    "import matplotlib.pyplot as plt"
   ]
  },
  {
   "cell_type": "code",
   "execution_count": 2,
   "metadata": {},
   "outputs": [],
   "source": [
    "nn = np.matrix([[1],[0],[0]]) \n",
    "dirc = str(nn[0,0]) + str(nn[1,0])+str(nn[2,0])"
   ]
  },
  {
   "cell_type": "code",
   "execution_count": 3,
   "metadata": {},
   "outputs": [],
   "source": [
    "#=========== general settings ============================#\n",
    "plt.rcParams[\"figure.figsize\"] = [20, 10]\n",
    "plt.rcParams[\"figure.subplot.wspace\"] = 0.4\n",
    "\n",
    "plt.rcParams['font.family'] ='sans-serif'#使用するフォント\n",
    "plt.rcParams['font.sans-serif'] ='Arial'#使用するフォント\n",
    "plt.rcParams[\"font.size\"] = 30\n",
    "#plt.rcParams['mathtext.rm'] ='sans'#使用するフォント\n",
    "#plt.rcParams['mathtext.default'] ='rm'#使用するフォント\n",
    "\n",
    "plt.rcParams['xtick.direction'] = 'in'#x軸の目盛線が内向き('in')か外向き('out')か双方向か('inout')\n",
    "plt.rcParams['ytick.direction'] = 'in'#y軸の目盛線が内向き('in')か外向き('out')か双方向か('inout')\n",
    "plt.rcParams['xtick.major.width'] = 1.0#x軸主目盛り線の線幅\n",
    "plt.rcParams['ytick.major.width'] = 1.0#y軸主目盛り線の線幅\n",
    "plt.rcParams[\"xtick.major.pad\"] = 19.0\n",
    "plt.rcParams[\"ytick.major.pad\"] = 16.0\n",
    "plt.rcParams[\"xtick.major.size\"] = 10\n",
    "plt.rcParams[\"ytick.major.size\"] = 10\n",
    "\n",
    "plt.rcParams['axes.linewidth'] = 1.0# 軸の線幅edge linewidth。囲みの太さ\n",
    "plt.rcParams[\"axes.labelpad\"] = 10\n",
    "#==================================================================#"
   ]
  },
  {
   "cell_type": "code",
   "execution_count": 4,
   "metadata": {},
   "outputs": [],
   "source": [
    "def ASR(t, s11, s22, s33, s12, s13, s23, p0, G, K, ts, tv):\n",
    "    #n = np.matrix([[n11,n12,n13,n14,n15,n16, n17, n18, n19],[n21,n22,n23,n24,n25,n26, n27, n28, n29],[n31,n32,n33,n34,n35,n36, n37, n38, n39]])\n",
    "   \n",
    "    n = nn / np.linalg.norm(nn)\n",
    "\n",
    "    Jav = (1-np.exp(-t/tv))/(3*K*10**3)\n",
    "    Jas = (1-np.exp(-t/ts))/(2*G*10**3)\n",
    "    \n",
    "    nTn = (s11*n[0]*n[0] + s22*n[1]*n[1] + s33*n[2]*n[2]\n",
    "           + 2*s12*n[0]*n[1] + 2*s23*n[1]*n[2] + 2*s13*n[0]*n[2]\n",
    "          )\n",
    "    \n",
    "    sm = (1.0/3.0)*(s11 + s22 + s33)\n",
    "  \n",
    "    es = (nTn - sm)*Jas\n",
    "    ev = (sm - p0)*Jav\n",
    "    \n",
    "    e = es + ev\n",
    "    \n",
    "    return e*10**6"
   ]
  },
  {
   "cell_type": "code",
   "execution_count": 5,
   "metadata": {},
   "outputs": [],
   "source": [
    "problem = {\n",
    "    'num_vars': 11,\n",
    "    'names': [ 's11', 's22', 's33', 's12', 's13', 's23', 'p0', 'G', 'K' 'ts', 'tv'],\n",
    "    'bounds': [[0, 100],\n",
    "               [0, 100],\n",
    "               [0, 100],\n",
    "               [0, 100],\n",
    "               [0, 100],\n",
    "               [0, 100],\n",
    "               [0, 100],\n",
    "               [0, 100],\n",
    "               [0, 100],\n",
    "               [0, 50],\n",
    "               [0, 50],\n",
    "               ]\n",
    "}"
   ]
  },
  {
   "cell_type": "code",
   "execution_count": 6,
   "metadata": {},
   "outputs": [],
   "source": [
    "param_values = saltelli.sample(problem, 5000)"
   ]
  },
  {
   "cell_type": "code",
   "execution_count": 9,
   "metadata": {},
   "outputs": [],
   "source": [
    "def S(t):\n",
    "    Y = np.zeros([param_values.shape[0]])\n",
    "    \n",
    "    for i, (s11, s22, s33, s12, s13, s23, p0, G, K, ts, tv) in enumerate(param_values):\n",
    "        Y[i] = ASR(t, s11, s22, s33, s12, s13, s23, p0, G, K, ts, tv)\n",
    "        \n",
    "    Si = sobol.analyze(problem, Y, print_to_console=False)\n",
    "    \n",
    "    out = np.array([[t]])\n",
    "    \n",
    "    for i in range(0, 11):\n",
    "        inn = np.array([\n",
    "            [Si[\"S1\"][i], Si[\"S1_conf\"][i]]\n",
    "        ])\n",
    "        out = np.hstack([out, inn])\n",
    "        \n",
    "    return out"
   ]
  },
  {
   "cell_type": "code",
   "execution_count": 10,
   "metadata": {},
   "outputs": [],
   "source": [
    "columns = [\"time[h]\",\n",
    "           \"s11\",\"s11_err\",\n",
    "           \"s22\",\"s22_err\",\n",
    "           \"s33\",\"s33_err\",\n",
    "           \"s12\",\"s12_err\",\n",
    "           \"s13\",\"s13_err\",\n",
    "           \"s23\",\"s23_err\",\n",
    "           \"p0\",\"p0_err\",\n",
    "           \"G\",\"G_err\",\n",
    "           \"K\",\"K_err\",\n",
    "           \"ts\",\"ts_err\",\n",
    "           \"tv\",\"tv_err\"\n",
    "          ]\n",
    "Sobol = pd.DataFrame(index=[], columns=columns)"
   ]
  },
  {
   "cell_type": "code",
   "execution_count": 11,
   "metadata": {},
   "outputs": [],
   "source": [
    "for t in range(1, 500, 10):\n",
    "    Si_p = pd.DataFrame(data = S(t), columns = columns)\n",
    "    Sobol = Sobol.append(Si_p)\n",
    "Sobol.to_csv(\"Sobol\"+dirc + \".csv\", index=False)"
   ]
  },
  {
   "cell_type": "code",
   "execution_count": 7,
   "metadata": {},
   "outputs": [
    {
     "name": "stdout",
     "output_type": "stream",
     "text": [
      "Parameter S1 S1_conf ST ST_conf\n",
      "s11 0.001921 0.005193 0.081390 0.276166\n",
      "s22 -0.000501 0.002035 0.052741 0.123810\n",
      "s33 -0.000172 0.001324 0.036402 0.097850\n",
      "s12 0.000000 0.000000 0.000000 0.000000\n",
      "s13 0.000000 0.000000 0.000000 0.000000\n",
      "s23 0.000000 0.000000 0.000000 0.000000\n",
      "p0 0.003217 0.010367 0.077036 0.321074\n",
      "G 0.020715 0.100208 0.124156 0.453901\n",
      "Kts -0.154973 0.467051 0.253670 0.479790\n",
      "tv 0.000091 0.001255 0.025626 0.114255\n"
     ]
    },
    {
     "ename": "IndexError",
     "evalue": "list index out of range",
     "output_type": "error",
     "traceback": [
      "\u001b[1;31m---------------------------------------------------------------------------\u001b[0m",
      "\u001b[1;31mIndexError\u001b[0m                                Traceback (most recent call last)",
      "\u001b[1;32m<ipython-input-7-868cf3ac3a43>\u001b[0m in \u001b[0;36m<module>\u001b[1;34m\u001b[0m\n\u001b[0;32m      4\u001b[0m     \u001b[0mY\u001b[0m\u001b[1;33m[\u001b[0m\u001b[0mi\u001b[0m\u001b[1;33m]\u001b[0m \u001b[1;33m=\u001b[0m \u001b[0mASR\u001b[0m\u001b[1;33m(\u001b[0m\u001b[0mt\u001b[0m\u001b[1;33m,\u001b[0m \u001b[0ms11\u001b[0m\u001b[1;33m,\u001b[0m \u001b[0ms22\u001b[0m\u001b[1;33m,\u001b[0m \u001b[0ms33\u001b[0m\u001b[1;33m,\u001b[0m \u001b[0ms12\u001b[0m\u001b[1;33m,\u001b[0m \u001b[0ms13\u001b[0m\u001b[1;33m,\u001b[0m \u001b[0ms23\u001b[0m\u001b[1;33m,\u001b[0m \u001b[0mp0\u001b[0m\u001b[1;33m,\u001b[0m \u001b[0mG\u001b[0m\u001b[1;33m,\u001b[0m \u001b[0mK\u001b[0m\u001b[1;33m,\u001b[0m \u001b[0mts\u001b[0m\u001b[1;33m,\u001b[0m \u001b[0mtv\u001b[0m\u001b[1;33m)\u001b[0m\u001b[1;33m\u001b[0m\u001b[1;33m\u001b[0m\u001b[0m\n\u001b[0;32m      5\u001b[0m \u001b[1;33m\u001b[0m\u001b[0m\n\u001b[1;32m----> 6\u001b[1;33m \u001b[0mSi\u001b[0m \u001b[1;33m=\u001b[0m \u001b[0msobol\u001b[0m\u001b[1;33m.\u001b[0m\u001b[0manalyze\u001b[0m\u001b[1;33m(\u001b[0m\u001b[0mproblem\u001b[0m\u001b[1;33m,\u001b[0m \u001b[0mY\u001b[0m\u001b[1;33m,\u001b[0m \u001b[0mprint_to_console\u001b[0m\u001b[1;33m=\u001b[0m\u001b[1;32mTrue\u001b[0m\u001b[1;33m)\u001b[0m\u001b[1;33m\u001b[0m\u001b[1;33m\u001b[0m\u001b[0m\n\u001b[0m",
      "\u001b[1;32mD:\\program\\miniconda\\envs\\ASR\\lib\\site-packages\\SALib\\analyze\\sobol.py\u001b[0m in \u001b[0;36manalyze\u001b[1;34m(problem, Y, calc_second_order, num_resamples, conf_level, print_to_console, parallel, n_processors)\u001b[0m\n\u001b[0;32m    122\u001b[0m     \u001b[1;31m# Print results to console\u001b[0m\u001b[1;33m\u001b[0m\u001b[1;33m\u001b[0m\u001b[1;33m\u001b[0m\u001b[0m\n\u001b[0;32m    123\u001b[0m     \u001b[1;32mif\u001b[0m \u001b[0mprint_to_console\u001b[0m\u001b[1;33m:\u001b[0m\u001b[1;33m\u001b[0m\u001b[1;33m\u001b[0m\u001b[0m\n\u001b[1;32m--> 124\u001b[1;33m         \u001b[0mprint_indices\u001b[0m\u001b[1;33m(\u001b[0m\u001b[0mS\u001b[0m\u001b[1;33m,\u001b[0m \u001b[0mproblem\u001b[0m\u001b[1;33m,\u001b[0m \u001b[0mcalc_second_order\u001b[0m\u001b[1;33m)\u001b[0m\u001b[1;33m\u001b[0m\u001b[1;33m\u001b[0m\u001b[0m\n\u001b[0m\u001b[0;32m    125\u001b[0m \u001b[1;33m\u001b[0m\u001b[0m\n\u001b[0;32m    126\u001b[0m     \u001b[1;32mreturn\u001b[0m \u001b[0mS\u001b[0m\u001b[1;33m\u001b[0m\u001b[1;33m\u001b[0m\u001b[0m\n",
      "\u001b[1;32mD:\\program\\miniconda\\envs\\ASR\\lib\\site-packages\\SALib\\analyze\\sobol.py\u001b[0m in \u001b[0;36mprint_indices\u001b[1;34m(S, problem, calc_second_order)\u001b[0m\n\u001b[0;32m    252\u001b[0m \u001b[1;33m\u001b[0m\u001b[0m\n\u001b[0;32m    253\u001b[0m     \u001b[1;32mfor\u001b[0m \u001b[0mj\u001b[0m \u001b[1;32min\u001b[0m \u001b[0mrange\u001b[0m\u001b[1;33m(\u001b[0m\u001b[0mD\u001b[0m\u001b[1;33m)\u001b[0m\u001b[1;33m:\u001b[0m\u001b[1;33m\u001b[0m\u001b[1;33m\u001b[0m\u001b[0m\n\u001b[1;32m--> 254\u001b[1;33m         print('%s %f %f %f %f' % (names[j], S['S1'][\n\u001b[0m\u001b[0;32m    255\u001b[0m             j], S['S1_conf'][j], S['ST'][j], S['ST_conf'][j]))\n\u001b[0;32m    256\u001b[0m \u001b[1;33m\u001b[0m\u001b[0m\n",
      "\u001b[1;31mIndexError\u001b[0m: list index out of range"
     ]
    }
   ],
   "source": [
    "Y = np.zeros([param_values.shape[0]])\n",
    "t=5    \n",
    "for i, (s11, s22, s33, s12, s13, s23, p0, G, K, ts, tv) in enumerate(param_values):\n",
    "    Y[i] = ASR(t, s11, s22, s33, s12, s13, s23, p0, G, K, ts, tv)\n",
    "        \n",
    "Si = sobol.analyze(problem, Y, print_to_console=True)"
   ]
  },
  {
   "cell_type": "code",
   "execution_count": 39,
   "metadata": {},
   "outputs": [
    {
     "name": "stdout",
     "output_type": "stream",
     "text": [
      "[[5.         0.30579464 0.25811207]]\n",
      "[[5.00000000e+00 3.05794637e-01 2.58112066e-01 3.50654902e-03\n",
      "  9.66041219e-02]]\n",
      "[[5.00000000e+00 3.05794637e-01 2.58112066e-01 3.50654902e-03\n",
      "  9.66041219e-02 7.66690375e-02 6.62691770e-02]]\n",
      "[[5.00000000e+00 3.05794637e-01 2.58112066e-01 3.50654902e-03\n",
      "  9.66041219e-02 7.66690375e-02 6.62691770e-02 0.00000000e+00\n",
      "  0.00000000e+00]]\n",
      "[[5.00000000e+00 3.05794637e-01 2.58112066e-01 3.50654902e-03\n",
      "  9.66041219e-02 7.66690375e-02 6.62691770e-02 0.00000000e+00\n",
      "  0.00000000e+00 0.00000000e+00 0.00000000e+00]]\n",
      "[[5.00000000e+00 3.05794637e-01 2.58112066e-01 3.50654902e-03\n",
      "  9.66041219e-02 7.66690375e-02 6.62691770e-02 0.00000000e+00\n",
      "  0.00000000e+00 0.00000000e+00 0.00000000e+00 0.00000000e+00\n",
      "  0.00000000e+00]]\n",
      "[[5.00000000e+00 3.05794637e-01 2.58112066e-01 3.50654902e-03\n",
      "  9.66041219e-02 7.66690375e-02 6.62691770e-02 0.00000000e+00\n",
      "  0.00000000e+00 0.00000000e+00 0.00000000e+00 0.00000000e+00\n",
      "  0.00000000e+00 1.94437395e-02 2.59197548e-01]]\n",
      "[[ 5.00000000e+00  3.05794637e-01  2.58112066e-01  3.50654902e-03\n",
      "   9.66041219e-02  7.66690375e-02  6.62691770e-02  0.00000000e+00\n",
      "   0.00000000e+00  0.00000000e+00  0.00000000e+00  0.00000000e+00\n",
      "   0.00000000e+00  1.94437395e-02  2.59197548e-01 -8.05630556e-02\n",
      "   2.41142544e-01]]\n"
     ]
    },
    {
     "ename": "IndexError",
     "evalue": "only integers, slices (`:`), ellipsis (`...`), numpy.newaxis (`None`) and integer or boolean arrays are valid indices",
     "output_type": "error",
     "traceback": [
      "\u001b[1;31m---------------------------------------------------------------------------\u001b[0m",
      "\u001b[1;31mIndexError\u001b[0m                                Traceback (most recent call last)",
      "\u001b[1;32m<ipython-input-39-4072734432ef>\u001b[0m in \u001b[0;36m<module>\u001b[1;34m\u001b[0m\n\u001b[0;32m      2\u001b[0m \u001b[0mplt\u001b[0m\u001b[1;33m.\u001b[0m\u001b[0mxticks\u001b[0m\u001b[1;33m(\u001b[0m\u001b[0mx\u001b[0m\u001b[1;33m,\u001b[0m \u001b[0mproblem\u001b[0m\u001b[1;33m[\u001b[0m\u001b[1;34m'names'\u001b[0m\u001b[1;33m]\u001b[0m\u001b[1;33m)\u001b[0m\u001b[1;33m\u001b[0m\u001b[1;33m\u001b[0m\u001b[0m\n\u001b[0;32m      3\u001b[0m \u001b[0mplt\u001b[0m\u001b[1;33m.\u001b[0m\u001b[0mylabel\u001b[0m\u001b[1;33m(\u001b[0m\u001b[1;34m'$S_{i}$'\u001b[0m\u001b[1;33m)\u001b[0m\u001b[1;33m\u001b[0m\u001b[1;33m\u001b[0m\u001b[0m\n\u001b[1;32m----> 4\u001b[1;33m \u001b[0mplt\u001b[0m\u001b[1;33m.\u001b[0m\u001b[0mbar\u001b[0m\u001b[1;33m(\u001b[0m\u001b[0mx\u001b[0m\u001b[1;33m,\u001b[0m \u001b[0mS\u001b[0m\u001b[1;33m(\u001b[0m\u001b[1;36m5\u001b[0m\u001b[1;33m)\u001b[0m\u001b[1;33m[\u001b[0m\u001b[1;34m'S1'\u001b[0m\u001b[1;33m]\u001b[0m\u001b[1;33m,\u001b[0m \u001b[0myerr\u001b[0m \u001b[1;33m=\u001b[0m \u001b[0mS\u001b[0m\u001b[1;33m(\u001b[0m\u001b[1;36m5\u001b[0m\u001b[1;33m)\u001b[0m\u001b[1;33m[\u001b[0m\u001b[1;34m'S1_conf'\u001b[0m\u001b[1;33m]\u001b[0m\u001b[1;33m)\u001b[0m\u001b[1;33m\u001b[0m\u001b[1;33m\u001b[0m\u001b[0m\n\u001b[0m",
      "\u001b[1;31mIndexError\u001b[0m: only integers, slices (`:`), ellipsis (`...`), numpy.newaxis (`None`) and integer or boolean arrays are valid indices"
     ]
    },
    {
     "data": {
      "image/png": "[encoded data removed]",
      "text/plain": [
       "<Figure size 1440x720 with 1 Axes>"
      ]
     },
     "metadata": {
      "needs_background": "light"
     },
     "output_type": "display_data"
    }
   ],
   "source": [
    "x = np.arange(problem['num_vars'])\n",
    "plt.xticks(x, problem['names'])\n",
    "plt.ylabel('$S_{i}$')\n",
    "plt.bar(x, Si['S1'], yerr = Si['S1_conf'])"
   ]
  },
  {
   "cell_type": "code",
   "execution_count": 10,
   "metadata": {},
   "outputs": [
    {
     "data": {
      "text/plain": [
       "<BarContainer object of 10 artists>"
      ]
     },
     "execution_count": 10,
     "metadata": {},
     "output_type": "execute_result"
    },
    {
     "data": {
      "image/png": "[encoded data removed]",
      "text/plain": [
       "<Figure size 1440x720 with 1 Axes>"
      ]
     },
     "metadata": {
      "needs_background": "light"
     },
     "output_type": "display_data"
    }
   ],
   "source": [
    "x = np.arange(problem['num_vars'])\n",
    "plt.xticks(x, problem['names'])\n",
    "plt.ylabel('$S_{T}$')\n",
    "plt.bar(x, Si['ST'], yerr = Si['ST_conf'])"
   ]
  },
  {
   "cell_type": "code",
   "execution_count": null,
   "metadata": {},
   "outputs": [],
   "source": []
  }
 ],
 "metadata": {
  "kernelspec": {
   "display_name": "Python 3",
   "language": "python",
   "name": "python3"
  },
  "language_info": {
   "codemirror_mode": {
    "name": "ipython",
    "version": 3
   },
   "file_extension": ".py",
   "mimetype": "text/x-python",
   "name": "python",
   "nbconvert_exporter": "python",
   "pygments_lexer": "ipython3",
   "version": "3.7.7"
  }
 },
 "nbformat": 4,
 "nbformat_minor": 4
}
